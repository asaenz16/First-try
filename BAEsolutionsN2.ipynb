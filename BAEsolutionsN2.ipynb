{
 "cells": [
  {
   "attachments": {},
   "cell_type": "markdown",
   "metadata": {},
   "source": [
    "# Numerical Solutions for the Bethe Equations"
   ]
  },
  {
   "attachments": {},
   "cell_type": "markdown",
   "metadata": {},
   "source": [
    "## Goal\n",
    "\n",
    "Solve the system of equations\n",
    "\n",
    "$z_1^L = -\\frac{1 + z_1 z_2 - \\Delta z_1}{1 + z_1 z_2 - \\Delta z_2}$\n",
    "\n",
    "\n",
    "$z_2^L = -\\frac{1 + z_1 z_2 - \\Delta z_2}{1 + z_1 z_2 - \\Delta z_1}$\n",
    "\n",
    "and check the identity\n",
    "\n",
    "$\\mathbf{1}((x_1 < x_2) = (y_1 < y_2) \\mod L) = \\sum_{z \\in Sol} \\frac{B_1(z_1, z_2)B_2(z_1, z_2)}{z_1^{y_1+1}z_2^{y_2+1}}\\left(z_1^{x_1} z_2^{x_2} +A(z_1, z_2) z_1^{x_2} z_2^{x_1} \\right)$\n",
    "\n",
    "with \n",
    "\n",
    "$B_1(z_1, z_2) =\\left( Lz_1^{L-1} + \\frac{\\Delta z_2 (z_1-z_2)}{(1 + z_1 z_2 -\\Delta z_2)^2} -\\frac{\\Delta}{(1 + z_1 z_2 -\\Delta  z_2)}   \\right)^{-1}$\n",
    "\n",
    "$B_2(z_1, z_2) =\\left( Lz_2^{L-1} + \\frac{\\Delta z_1 (z_2-z_1)}{(1 + z_1 z_2 -\\Delta z_1)^2} -\\frac{\\Delta}{(1 + z_1 z_2 -\\Delta z_1 )}   \\right)^{-1}$\n",
    "\n",
    "$A(z_1, z_2) = -\\frac{1 + z_1 z_2 - \\Delta z_2}{1 + z_1 z_2 - \\Delta z_1}$\n",
    "\n",
    "so that $Sol$ is the set of all the solution to the system of equations above."
   ]
  },
  {
   "cell_type": "code",
   "execution_count": 1,
   "metadata": {},
   "outputs": [
    {
     "name": "stderr",
     "output_type": "stream",
     "text": [
      "/tmp/ipykernel_1052/3156728878.py:4: MatplotlibDeprecationWarning: The seaborn styles shipped by Matplotlib are deprecated since 3.6, as they no longer correspond to the styles shipped by seaborn. However, they will remain available as 'seaborn-v0_8-<style>'. Alternatively, directly use the seaborn API instead.\n",
      "  plt.style.use('seaborn-poster')\n"
     ]
    }
   ],
   "source": [
    "import numpy as np\n",
    "from mpl_toolkits import mplot3d\n",
    "import matplotlib.pyplot as plt\n",
    "plt.style.use('seaborn-poster')"
   ]
  },
  {
   "attachments": {},
   "cell_type": "markdown",
   "metadata": {},
   "source": [
    "### Example: Finding roots\n",
    "\n",
    "The code below finds the roots of the polynomial $z^2-1$."
   ]
  },
  {
   "cell_type": "code",
   "execution_count": 2,
   "metadata": {},
   "outputs": [
    {
     "name": "stdout",
     "output_type": "stream",
     "text": [
      "[-1.  1.]\n"
     ]
    }
   ],
   "source": [
    "coeff = [1, 0, -1]\n",
    "sol = np.roots(coeff)\n",
    "print(sol)"
   ]
  },
  {
   "attachments": {},
   "cell_type": "markdown",
   "metadata": {},
   "source": [
    "## Numerical Solutions\n",
    "\n",
    "We solve the system of equations by a fix point method: \n",
    "\n",
    "$(z_{1,n}, z_{2,n}) \\rightarrow (z_1, z_2)$ as $n\\rightarrow \\infty$.\n",
    "\n",
    "The sequence converges to a solution. We define the sequence as follows:\n",
    "\n",
    "$z_{1, n+1} = A^{-1/L}(z_{1, n}, z_{2,n})$ and $z_{2, n+1} = A^{1/L}(z_{1, n}, z_{2,n})$.\n",
    "\n",
    "Since there are $L$ roots of unity, we have to make a choice of which root to pick and we pick the one that is closest to the previous one. That is, we are looking for the roots of the polynomials\n",
    "\n",
    "$z_{1, n+1}^{L} - A^{-1}(z_{1, n}, z_{2,n})$ and $z_{2, n+1}^L = A(z_{1, n}, z_{2,n})$\n",
    "\n",
    "with respect to $z_{n+1}$."
   ]
  },
  {
   "attachments": {},
   "cell_type": "markdown",
   "metadata": {},
   "source": [
    "### Defining the constant coefficient\n",
    "\n",
    "We define the $A(z_1, z_2)$ and $A^{-1}(z_1, z_2)$ as the coefficients $c1$ and $c2$ for the pair of polynomial equations."
   ]
  },
  {
   "cell_type": "code",
   "execution_count": 3,
   "metadata": {},
   "outputs": [],
   "source": [
    "def c2(z1, z2, d):\n",
    "    return -(1 + z1*z2 - d*z2)/(1+ z1*z2 - d*z1)\n",
    "\n",
    "def c1(z1, z2, d):\n",
    "    return -(1 + z1*z2 - d*z1)/(1+z1*z2 - d*z2)"
   ]
  },
  {
   "cell_type": "code",
   "execution_count": 4,
   "metadata": {},
   "outputs": [
    {
     "data": {
      "text/plain": [
       "-0.2"
      ]
     },
     "execution_count": 4,
     "metadata": {},
     "output_type": "execute_result"
    }
   ],
   "source": [
    "c1(2, 3, 4)"
   ]
  },
  {
   "cell_type": "code",
   "execution_count": 5,
   "metadata": {},
   "outputs": [
    {
     "data": {
      "text/plain": [
       "-5.0"
      ]
     },
     "execution_count": 5,
     "metadata": {},
     "output_type": "execute_result"
    }
   ],
   "source": [
    "c2(2,3,4)"
   ]
  },
  {
   "cell_type": "code",
   "execution_count": 6,
   "metadata": {},
   "outputs": [
    {
     "data": {
      "text/plain": [
       "1.0"
      ]
     },
     "execution_count": 6,
     "metadata": {},
     "output_type": "execute_result"
    }
   ],
   "source": [
    "c1(2, 3, 4)*c2(2, 3, 4)"
   ]
  },
  {
   "attachments": {},
   "cell_type": "markdown",
   "metadata": {},
   "source": [
    "### Defining the polynomial\n",
    "\n",
    "A polynomial is defined as a list of coefficients. The polynimials that we are trying to solve\n",
    "\n",
    "$z_1^L - c1 =0$  and $z_2^L - c_2==0$\n",
    "\n",
    "corresponds to the list\n",
    "\n",
    "[1, 0, ... , 0, -c1] and [1, 0, ... , -c2].\n",
    "\n",
    "We define a functions below to give such lists."
   ]
  },
  {
   "cell_type": "code",
   "execution_count": 7,
   "metadata": {},
   "outputs": [],
   "source": [
    "def pol_coeff1(l, z1, z2, d):\n",
    "    coeff = [1]\n",
    "    for i in range(l-1):\n",
    "        coeff.append(0)\n",
    "    coeff.append(-c1(z1, z2, d))\n",
    "    return coeff"
   ]
  },
  {
   "cell_type": "code",
   "execution_count": 8,
   "metadata": {},
   "outputs": [
    {
     "data": {
      "text/plain": [
       "array([-0.72477966+0.j        , -0.22396923+0.68930642j,\n",
       "       -0.22396923-0.68930642j,  0.58635907+0.4260148j ,\n",
       "        0.58635907-0.4260148j ])"
      ]
     },
     "execution_count": 8,
     "metadata": {},
     "output_type": "execute_result"
    }
   ],
   "source": [
    "pol_coeff1(5, 2, 3, 4)\n",
    "np.roots(pol_coeff1(5, 2, 3, 4))"
   ]
  },
  {
   "cell_type": "code",
   "execution_count": 9,
   "metadata": {},
   "outputs": [],
   "source": [
    "def pol_coeff2(l, z1, z2, d):\n",
    "    coeff = [1]\n",
    "    for i in range(l-1):\n",
    "        coeff.append(0)\n",
    "    coeff.append(-c2(z1, z2, d))\n",
    "    return coeff"
   ]
  },
  {
   "cell_type": "code",
   "execution_count": 10,
   "metadata": {},
   "outputs": [
    {
     "data": {
      "text/plain": [
       "[1, 0, 0, 0, 0, 5.0]"
      ]
     },
     "execution_count": 10,
     "metadata": {},
     "output_type": "execute_result"
    }
   ],
   "source": [
    "pol_coeff2(5, 2, 3, 4)"
   ]
  },
  {
   "cell_type": "code",
   "execution_count": 11,
   "metadata": {},
   "outputs": [
    {
     "data": {
      "text/plain": [
       "[1, 0, 1.0]"
      ]
     },
     "execution_count": 11,
     "metadata": {},
     "output_type": "execute_result"
    }
   ],
   "source": [
    "pol_coeff2(2, 1, 1, 0)"
   ]
  },
  {
   "attachments": {},
   "cell_type": "markdown",
   "metadata": {},
   "source": [
    "### Finding close solutions\n",
    "\n",
    "When we obtain the solutions of the polynomial equations, we obtain $L$ solutions but we are only interested in the solution that is closest to the previous element of the sequence $(z_{1,n}, z_{2,n})$. The code below solves the polynomials and returns the \"closest\" solutions."
   ]
  },
  {
   "cell_type": "code",
   "execution_count": 12,
   "metadata": {},
   "outputs": [],
   "source": [
    "def close_sol1(l, z1, z2, d, s ):\n",
    "    sols = np.roots(pol_coeff1(l, z1, z2, d))\n",
    "    sols = [x-s for x in sols]\n",
    "    return min(sols, key=np.abs) + s\n"
   ]
  },
  {
   "cell_type": "code",
   "execution_count": 13,
   "metadata": {},
   "outputs": [
    {
     "data": {
      "text/plain": [
       "(0.049937616943892205+0.9987523388778446j)"
      ]
     },
     "execution_count": 13,
     "metadata": {},
     "output_type": "execute_result"
    }
   ],
   "source": [
    "close_sol1(2, 1j, -1j, 0.1, 1j)"
   ]
  },
  {
   "cell_type": "code",
   "execution_count": 14,
   "metadata": {},
   "outputs": [],
   "source": [
    "def close_sol2(l, z1, z2, d, s ):\n",
    "    sols = np.roots(pol_coeff2(l, z1, z2, d))\n",
    "    sols = [x-s for x in sols]\n",
    "    return min(sols, key=np.abs) + s"
   ]
  },
  {
   "cell_type": "code",
   "execution_count": 15,
   "metadata": {},
   "outputs": [
    {
     "data": {
      "text/plain": [
       "(-0.04993761694389226+0.9987523388778448j)"
      ]
     },
     "execution_count": 15,
     "metadata": {},
     "output_type": "execute_result"
    }
   ],
   "source": [
    "close_sol2(2, 1j, -1j, 0.1, 1j)"
   ]
  },
  {
   "attachments": {},
   "cell_type": "markdown",
   "metadata": {},
   "source": [
    "### Setting up a recursion\n",
    "\n",
    "We now set up a recursion to give us the an arbitrary element of the sequence $(z_{1,n}, z_{2,n})$. The starting point of the recursion is label by an index $(k_1, k_2)$ so that $k_i \\in \\{1, \\dots, L\\}$ and \n",
    "\n",
    "$(z_{1,0}, z_{2,0}) = (e^{2 \\pi i k_1/L}, e^{2\\pi i k_2/L})$,\n",
    "\n",
    "i.e. the solutions of the system of equations with $\\Delta = 0$.\n",
    "\n",
    "Notation: n= trails."
   ]
  },
  {
   "cell_type": "code",
   "execution_count": 16,
   "metadata": {},
   "outputs": [
    {
     "name": "stdout",
     "output_type": "stream",
     "text": [
      "[-1.        +0.j         -0.30901699+0.95105652j -0.30901699-0.95105652j\n",
      "  0.80901699+0.58778525j  0.80901699-0.58778525j]\n",
      "[(-0.3090169943749479+0.9510565162951541j), (-0.3090169943749479-0.9510565162951541j)]\n"
     ]
    }
   ],
   "source": [
    "l=5\n",
    "sol = np.roots(pol_coeff1(l, 0, 0, 0))\n",
    "print(sol)\n",
    "z= [sol[1], sol[2]]\n",
    "print(z)\n"
   ]
  },
  {
   "cell_type": "code",
   "execution_count": 17,
   "metadata": {},
   "outputs": [
    {
     "name": "stdout",
     "output_type": "stream",
     "text": [
      "[(-0.2911619922237325+0.9566737658597665j), (-0.2911619922237325-0.9566737658597665j)]\n"
     ]
    }
   ],
   "source": [
    "d=.1\n",
    "z= [close_sol1(l , z[0], z[1], d, z[0]), close_sol2(l, z[0], z[1], d, z[1])]\n",
    "print(z)"
   ]
  },
  {
   "cell_type": "code",
   "execution_count": 18,
   "metadata": {},
   "outputs": [],
   "source": [
    "def sol_sys(l, d, k1, k2, trails):\n",
    "    sol = np.roots(pol_coeff1(l, 0, 0, 0))\n",
    "    z = [sol[k1], sol[k2]]\n",
    "    for i in range(trails):\n",
    "        z=[close_sol1(l , z[0], z[1], d, z[0]), close_sol2(l, z[0], z[1], d, z[1])]\n",
    "    return (z[0], z[1])"
   ]
  },
  {
   "cell_type": "code",
   "execution_count": 19,
   "metadata": {},
   "outputs": [
    {
     "data": {
      "text/plain": [
       "((-0.2910397456371135+0.956710962861556j),\n",
       " (-0.2910397456371135-0.956710962861556j))"
      ]
     },
     "execution_count": 19,
     "metadata": {},
     "output_type": "execute_result"
    }
   ],
   "source": [
    "sol_sys(5, 0.1, 1, 2, 30)"
   ]
  },
  {
   "cell_type": "code",
   "execution_count": 20,
   "metadata": {},
   "outputs": [
    {
     "data": {
      "text/plain": [
       "((-0.9999004932239454-0.01410686536793182j),\n",
       " (-0.2955698188574211+0.955321140863423j))"
      ]
     },
     "execution_count": 20,
     "metadata": {},
     "output_type": "execute_result"
    }
   ],
   "source": [
    "sol_sys(5, 0.1, 0, 1, 30)"
   ]
  },
  {
   "cell_type": "code",
   "execution_count": 21,
   "metadata": {},
   "outputs": [
    {
     "data": {
      "text/plain": [
       "((-0.9434203418185536-0.33159924403255625j),\n",
       " (0.023836703374754385+0.9997158654198816j))"
      ]
     },
     "execution_count": 21,
     "metadata": {},
     "output_type": "execute_result"
    }
   ],
   "source": [
    "sol_sys(5, 10, 0, 1, 30)"
   ]
  },
  {
   "attachments": {},
   "cell_type": "markdown",
   "metadata": {},
   "source": [
    "### Checking the solution\n",
    "\n",
    "We check the solution by showing that \n",
    "\n",
    "$z_{1,n}^L - A^{-1}(z_n)$ and $z_{2,n}^{L} - A(z_n)$\n",
    "\n",
    "are close to zero.\n",
    "\n",
    "Notation: n= trails."
   ]
  },
  {
   "cell_type": "code",
   "execution_count": 22,
   "metadata": {},
   "outputs": [
    {
     "name": "stdout",
     "output_type": "stream",
     "text": [
      "(-6.661338147750939e-16-2.789435349370706e-15j)\n",
      "(-8.881784197001252e-16-8.604228440844963e-16j)\n"
     ]
    }
   ],
   "source": [
    "l=5\n",
    "d=0.1\n",
    "k1=1\n",
    "k2=4\n",
    "trails=30\n",
    "z= sol_sys(l, d, k1, k2, trails)\n",
    "print(z[0]**l - c1(z[0], z[1], d))\n",
    "print(z[1]**l- c2(z[0], z[1], d))"
   ]
  },
  {
   "attachments": {},
   "cell_type": "markdown",
   "metadata": {},
   "source": [
    "### Checking that all solutions are different\n",
    "\n",
    "We check that all the solutions labelled by the indexes $(k_1, k_2)$ with $k_i \\in \\{1, \\dots, L\\}$ are distinct. This proves that we have found all the different solutions."
   ]
  },
  {
   "cell_type": "code",
   "execution_count": 23,
   "metadata": {},
   "outputs": [
    {
     "data": {
      "text/plain": [
       "[(0, 1),\n",
       " (0, 2),\n",
       " (0, 3),\n",
       " (0, 4),\n",
       " (1, 2),\n",
       " (1, 3),\n",
       " (1, 4),\n",
       " (2, 3),\n",
       " (2, 4),\n",
       " (3, 4)]"
      ]
     },
     "execution_count": 23,
     "metadata": {},
     "output_type": "execute_result"
    }
   ],
   "source": [
    "[(i,j) for i in range(l) for j in range(i+1, l)]"
   ]
  },
  {
   "cell_type": "code",
   "execution_count": 24,
   "metadata": {},
   "outputs": [
    {
     "name": "stdout",
     "output_type": "stream",
     "text": [
      "[((-0.9999004932239464-0.014106865367932042j), (-0.29556981885742145+0.9553211408634232j)), ((-0.9999004932239464+0.014106865367932042j), (-0.29556981885742145-0.9553211408634232j)), ((-0.9982161702461371-0.05970324496318047j), (0.8426665326923638+0.5384358036760087j)), ((-0.9982161702461371+0.05970324496318047j), (0.8426665326923638-0.5384358036760087j)), ((-0.29556981885742145+0.9553211408634232j), (-0.9999004932239464-0.014106865367932042j)), ((-0.2910397456371135+0.956710962861556j), (-0.2910397456371135-0.956710962861556j)), ((-0.2695024611955084+0.9629997006279731j), (0.7840690931242289+0.6206735512387719j)), ((-0.28631282465912894+0.9581361940954486j), (0.8227661423655492-0.5683800444921631j)), ((-0.29556981885742145-0.9553211408634232j), (-0.9999004932239464+0.014106865367932042j)), ((-0.2910397456371135-0.956710962861556j), (-0.2910397456371135+0.956710962861556j)), ((-0.28631282465912894-0.9581361940954486j), (0.8227661423655492+0.5683800444921631j)), ((-0.2695024611955084-0.9629997006279731j), (0.7840690931242289-0.6206735512387719j)), ((0.8426665326923638+0.5384358036760087j), (-0.9982161702461371-0.05970324496318047j)), ((0.7840690931242289+0.6206735512387719j), (-0.2695024611955084+0.9629997006279731j)), ((0.8227661423655492+0.5683800444921631j), (-0.28631282465912894-0.9581361940954486j)), ((0.8160397456371133+0.5779957902446311j), (0.8160397456371133-0.5779957902446311j)), ((0.8426665326923638-0.5384358036760087j), (-0.9982161702461371+0.05970324496318047j)), ((0.8227661423655492-0.5683800444921631j), (-0.28631282465912894+0.9581361940954486j)), ((0.7840690931242289-0.6206735512387719j), (-0.2695024611955084-0.9629997006279731j)), ((0.8160397456371133-0.5779957902446311j), (0.8160397456371133+0.5779957902446311j))]\n"
     ]
    }
   ],
   "source": [
    "l=5\n",
    "d=.1\n",
    "trails=300\n",
    "all_sol = [sol_sys(l, d, k1, k2, trails) for k1 in range(l) for k2 in range(l) if k1 != k2]\n",
    "print(all_sol)"
   ]
  },
  {
   "cell_type": "code",
   "execution_count": 25,
   "metadata": {},
   "outputs": [
    {
     "name": "stdout",
     "output_type": "stream",
     "text": [
      "[1.1777914280376254, 1.1777914280376254, 1.1777914280376254, 1.1777914280376254, 1.1777914280376254, 1.1777914280376254, 1.1777914280376254, 1.1777914280376254, 1.1822471185531238, 1.1822471185531238, 1.1822471185531238, 1.1822471185531238, 1.1822471185531238, 1.1822471185531238, 1.1822471185531238, 1.1822471185531238, 1.1841391914090127, 1.1841391914090127, 1.1841391914090127, 1.1841391914090127, 1.1841391914090127, 1.1841391914090127, 1.1841391914090127, 1.1841391914090127, 1.1844982406343079, 1.1844982406343079, 1.1844982406343079, 1.1844982406343079, 1.1844982406343079, 1.1844982406343079, 1.1844982406343079, 1.1844982406343079, 1.1962780972783784, 1.1962780972783784, 1.1962780972783784, 1.1962780972783784, 1.2071828873025654, 1.2071828873025654, 1.2071828873025654, 1.2071828873025654, 1.2071828873025654, 1.2071828873025654, 1.2071828873025654, 1.2071828873025654, 1.2578054257784657, 1.2578054257784657, 1.2578054257784657, 1.2578054257784657, 1.2578054257784657, 1.2578054257784657, 1.2578054257784657, 1.2578054257784657, 1.3567434466865336, 1.3567434466865336, 1.3567434466865336, 1.3567434466865336, 1.3567434466865336, 1.3567434466865336, 1.3567434466865336, 1.3567434466865336, 1.9147562466289758, 1.9147562466289758, 1.9147562466289758, 1.9147562466289758, 1.9147562466289758, 1.9147562466289758, 1.9147562466289758, 1.9147562466289758, 1.9207147386613457, 1.9207147386613457, 1.9207147386613457, 1.9207147386613457, 1.9207147386613457, 1.9207147386613457, 1.9207147386613457, 1.9207147386613457, 1.9313632815976227, 1.9313632815976227, 1.9313632815976227, 1.9313632815976227, 1.9313632815976227, 1.9313632815976227, 1.9313632815976227, 1.9313632815976227, 1.9345226727843905, 1.9345226727843905, 1.9345226727843905, 1.9345226727843905, 1.9345226727843905, 1.9345226727843905, 1.9345226727843905, 1.9345226727843905, 1.9382832252613493, 1.9382832252613493, 1.9382832252613493, 1.9382832252613493, 1.9382832252613493, 1.9382832252613493, 1.9382832252613493, 1.9382832252613493, 1.9388560124627106, 1.9388560124627106, 1.9388560124627106, 1.9388560124627106, 1.9518314027195713, 1.9518314027195713, 1.9518314027195713, 1.9518314027195713, 1.9518314027195713, 1.9518314027195713, 1.9518314027195713, 1.9518314027195713, 1.9862638213630557, 1.9862638213630557, 1.9862638213630557, 1.9862638213630557, 1.9862638213630557, 1.9862638213630557, 1.9862638213630557, 1.9862638213630557, 2.2155813797983996, 2.2155813797983996, 2.2155813797983996, 2.2155813797983996, 2.3119831609785244, 2.3119831609785244, 2.3211791456713553, 2.3211791456713553, 2.3211791456713553, 2.3211791456713553, 2.3211791456713553, 2.3211791456713553, 2.3211791456713553, 2.3211791456713553, 2.340128357137931, 2.340128357137931, 2.340128357137931, 2.340128357137931, 2.34909114897912, 2.34909114897912, 2.34909114897912, 2.34909114897912, 2.34909114897912, 2.34909114897912, 2.34909114897912, 2.34909114897912, 2.3502393804564674, 2.3502393804564674, 2.3502393804564674, 2.3502393804564674, 2.3502393804564674, 2.3502393804564674, 2.3502393804564674, 2.3502393804564674, 2.3506495691107863, 2.3506495691107863, 2.3506495691107863, 2.3506495691107863, 2.3506495691107863, 2.3506495691107863, 2.3506495691107863, 2.3506495691107863, 2.3508898292593, 2.3508898292593, 2.3508898292593, 2.3508898292593, 2.3508898292593, 2.3508898292593, 2.3508898292593, 2.3508898292593, 2.351141009169893, 2.351141009169893, 2.351141009169893, 2.351141009169893, 2.3511410091698934, 2.3511410091698934, 2.3511410091698934, 2.3511410091698934, 2.366768881175767, 2.366768881175767, 2.366768881175767, 2.366768881175767, 2.366768881175767, 2.366768881175767, 2.366768881175767, 2.366768881175767, 2.396557829988089, 2.396557829988089, 2.396557829988089, 2.396557829988089, 3.0033219749232725, 3.0033219749232725, 3.0033219749232725, 3.0033219749232725, 3.0033219749232725, 3.0033219749232725, 3.0033219749232725, 3.0033219749232725, 3.0371315790445665, 3.0371315790445665, 3.0371315790445665, 3.0371315790445665, 3.0371315790445665, 3.0371315790445665, 3.0371315790445665, 3.0371315790445665, 3.039815526290141, 3.039815526290141, 3.039815526290141, 3.039815526290141, 3.039815526290141, 3.039815526290141, 3.039815526290141, 3.039815526290141, 3.046232892576171, 3.046232892576171, 3.046232892576171, 3.046232892576171, 3.046232892576171, 3.046232892576171, 3.046232892576171, 3.046232892576171, 3.0530324771752233, 3.0530324771752233, 3.0530324771752233, 3.0530324771752233, 3.0540687778973075, 3.0540687778973075, 3.0540687778973075, 3.0540687778973075, 3.0540687778973075, 3.0540687778973075, 3.0540687778973075, 3.0540687778973075, 3.068815834482985, 3.068815834482985, 3.068815834482985, 3.068815834482985, 3.068815834482985, 3.068815834482985, 3.068815834482985, 3.068815834482985, 3.0753795039846157, 3.0753795039846157, 3.0753795039846157, 3.0753795039846157, 3.0753795039846157, 3.0753795039846157, 3.0753795039846157, 3.0753795039846157, 3.095163139473705, 3.095163139473705, 3.095163139473705, 3.095163139473705, 3.095163139473705, 3.095163139473705, 3.095163139473705, 3.095163139473705, 3.096075234651088, 3.096075234651088, 3.096075234651088, 3.096075234651088, 3.096075234651088, 3.096075234651088, 3.096075234651088, 3.096075234651088, 3.0981864667491847, 3.0981864667491847, 3.0981864667491847, 3.0981864667491847, 3.0981864667491847, 3.0981864667491847, 3.0981864667491847, 3.0981864667491847, 3.1077817298469306, 3.1077817298469306, 3.1077817298469306, 3.1077817298469306, 3.1077817298469306, 3.1077817298469306, 3.1077817298469306, 3.1077817298469306, 3.1141068587734164, 3.1141068587734164, 3.1141068587734164, 3.1141068587734164, 3.1141068587734164, 3.1141068587734164, 3.1141068587734164, 3.1141068587734164, 3.1145902323537378, 3.1145902323537378, 3.1145902323537378, 3.1145902323537378, 3.1145902323537378, 3.1145902323537378, 3.1145902323537378, 3.1145902323537378, 3.1581295499096496, 3.1581295499096496, 3.1581295499096496, 3.1581295499096496, 3.1581295499096496, 3.1581295499096496, 3.1581295499096496, 3.1581295499096496, 3.16734650373349, 3.16734650373349, 3.16734650373349, 3.16734650373349, 3.7369658518911355, 3.7369658518911355, 3.7369658518911355, 3.7369658518911355, 3.7369658518911355, 3.7369658518911355, 3.7369658518911355, 3.7369658518911355, 3.7737556793031515, 3.7737556793031515, 3.7737556793031515, 3.7737556793031515, 3.784679546820172, 3.784679546820172, 3.784679546820172, 3.784679546820172, 3.8009093217197596, 3.8009093217197596, 3.8009093217197596, 3.8009093217197596, 3.8009093217197596, 3.8009093217197596, 3.8009093217197596, 3.8009093217197596, 3.80276719927706, 3.80276719927706, 3.80276719927706, 3.80276719927706, 3.80276719927706, 3.80276719927706, 3.80276719927706, 3.80276719927706, 3.803361963176573, 3.803361963176573, 3.803361963176573, 3.803361963176573, 3.803361963176573, 3.803361963176573, 3.803361963176573, 3.803361963176573, 3.8039007601853108, 3.8039007601853108, 3.8039007601853108, 3.8039007601853108, 3.8039007601853108, 3.8039007601853108, 3.8039007601853108, 3.8039007601853108, 3.804226065180613, 3.804226065180613, 3.804226065180613, 3.804226065180613, 3.804226065180616, 3.804226065180616, 3.804226065180616, 3.804226065180616, 3.826843851446224, 3.826843851446224, 3.826959453482357, 3.826959453482357, 3.826959453482357, 3.826959453482357, 3.826959453482357, 3.826959453482357, 3.826959453482357, 3.826959453482357, 3.871237242786939, 3.871237242786939, 3.871237242786939, 3.871237242786939]\n"
     ]
    }
   ],
   "source": [
    "diff =[abs(x[0]-y[0])+abs(x[1]-y[1]) for x in all_sol for y in all_sol if x != y]\n",
    "diff.sort()\n",
    "print(diff)"
   ]
  },
  {
   "attachments": {},
   "cell_type": "markdown",
   "metadata": {},
   "source": [
    "### Plotting the solutions\n",
    "\n",
    "We plot the solutions."
   ]
  },
  {
   "cell_type": "code",
   "execution_count": 26,
   "metadata": {},
   "outputs": [
    {
     "data": {
      "image/png": "[encoded data removed]",
      "text/plain": [
       "<Figure size 1280x880 with 1 Axes>"
      ]
     },
     "metadata": {},
     "output_type": "display_data"
    }
   ],
   "source": [
    "# import library\n",
    "import matplotlib.pyplot as plt\n",
    "\n",
    "\n",
    "# extract real part\n",
    "x = [ele[1].real for ele in all_sol]\n",
    "# extract imaginary part\n",
    "y = [ele[1].imag for ele in all_sol]\n",
    "\n",
    "# plot the complex numbers\n",
    "plt.scatter(x, y)\n",
    "plt.ylabel('Imaginary')\n",
    "plt.xlabel('Real')\n",
    "plt.xlim([-2,2])\n",
    "plt.show()\n"
   ]
  },
  {
   "attachments": {},
   "cell_type": "markdown",
   "metadata": {},
   "source": [
    "## Checking the initial conditons\n",
    "\n",
    "We check the identity\n",
    "\n",
    "$\\mathbf{1}((x_1 < x_2) = (y_1 < y_2) \\mod L) = \\sum_{z \\in Sol} \\frac{B_1(z_1, z_2)B_2(z_1, z_2)}{z_1^{y_1+1}z_2^{y_2+1}}\\left(z_1^{x_1} z_2^{x_2} +A(z_1, z_2) z_1^{x_2} z_2^{x_1} \\right)$\n",
    "\n",
    "with \n",
    "\n",
    "$B_1(z_1, z_2) =\\left( Lz_1^{L-1} + \\frac{\\Delta z_2 (z_1-z_2)}{(1 + z_1 z_2 -\\Delta z_2)^2} -\\frac{\\Delta}{(1 + z_1 z_2 -\\Delta  z_2)}   \\right)^{-1}$\n",
    "\n",
    "$B_2(z_1, z_2) =\\left( Lz_2^{L-1} + \\frac{\\Delta z_1 (z_2-z_1)}{(1 + z_1 z_2 -\\Delta z_1)^2} -\\frac{\\Delta}{(1 + z_1 z_2 -\\Delta z_1 )}   \\right)^{-1}$\n",
    "\n",
    "$A(z_1, z_2) = -\\frac{1 + z_1 z_2 - \\Delta z_2}{1 + z_1 z_2 - \\Delta z_1}$\n",
    "\n",
    "so that $Sol$ is the set of all the solution to the system of equations above."
   ]
  },
  {
   "attachments": {},
   "cell_type": "markdown",
   "metadata": {},
   "source": [
    "### Define A(z1, z2) function"
   ]
  },
  {
   "cell_type": "code",
   "execution_count": 27,
   "metadata": {},
   "outputs": [],
   "source": [
    "def A(z1, z2, d):\n",
    "    return (-1)* (1 + z1*z2 - d*z2)/(1 + z1 *z2 - d*z1)"
   ]
  },
  {
   "cell_type": "code",
   "execution_count": 28,
   "metadata": {},
   "outputs": [
    {
     "data": {
      "text/plain": [
       "-5.0"
      ]
     },
     "execution_count": 28,
     "metadata": {},
     "output_type": "execute_result"
    }
   ],
   "source": [
    "A(1,2,4)"
   ]
  },
  {
   "cell_type": "code",
   "execution_count": 29,
   "metadata": {},
   "outputs": [
    {
     "data": {
      "text/plain": [
       "(-0.9975133206205744-0.07047818942421406j)"
      ]
     },
     "execution_count": 29,
     "metadata": {},
     "output_type": "execute_result"
    }
   ],
   "source": [
    "d=0.1\n",
    "A(all_sol[1][0], all_sol[1][1], d)\n"
   ]
  },
  {
   "cell_type": "code",
   "execution_count": 30,
   "metadata": {},
   "outputs": [
    {
     "data": {
      "text/plain": [
       "[(-0.9975133206205744+0.07047818942421406j),\n",
       " (-0.9975133206205744-0.07047818942421406j),\n",
       " (-0.955721667149654+0.2942721443505743j),\n",
       " (-0.955721667149654-0.2942721443505743j),\n",
       " (-0.9975133206205743-0.07047818942421415j),\n",
       " (-0.9955637246025222-0.09408969261058067j),\n",
       " (-0.9787720322818798-0.20495196711132008j),\n",
       " (-0.9929379799478917-0.11863459856635383j),\n",
       " (-0.9975133206205743+0.07047818942421415j),\n",
       " (-0.9955637246025222+0.09408969261058067j),\n",
       " (-0.9929379799478917+0.11863459856635383j),\n",
       " (-0.9787720322818798+0.20495196711132008j),\n",
       " (-0.9557216671496547-0.2942721443505744j),\n",
       " (-0.9787720322818787+0.20495196711131983j),\n",
       " (-0.9929379799478918-0.11863459856635387j),\n",
       " (-0.9981861191474779-0.060203584123347934j),\n",
       " (-0.9557216671496547+0.2942721443505744j),\n",
       " (-0.9929379799478918+0.11863459856635387j),\n",
       " (-0.9787720322818787-0.20495196711131983j),\n",
       " (-0.9981861191474779+0.060203584123347934j)]"
      ]
     },
     "execution_count": 30,
     "metadata": {},
     "output_type": "execute_result"
    }
   ],
   "source": [
    "d=0.1\n",
    "[A(sol[0], sol[1],d) for sol in all_sol]"
   ]
  },
  {
   "attachments": {},
   "cell_type": "markdown",
   "metadata": {},
   "source": [
    "### Define B1 and B2 function"
   ]
  },
  {
   "cell_type": "code",
   "execution_count": 31,
   "metadata": {},
   "outputs": [],
   "source": [
    "def B1 (z1, z2 ,l, d):\n",
    "    b= l* (z1**(l-1))\n",
    "    b = b+ (d* z2 *(z1-z2)/((1+z1*z2- d*z2) *(1+z1*z2- d*z2)))\n",
    "    b = b - (d/(1+z1*z2- d*z2))\n",
    "    b= 1/b\n",
    "    return b"
   ]
  },
  {
   "cell_type": "code",
   "execution_count": 32,
   "metadata": {},
   "outputs": [
    {
     "data": {
      "text/plain": [
       "(0.20064227880088642-0.011334142878345051j)"
      ]
     },
     "execution_count": 32,
     "metadata": {},
     "output_type": "execute_result"
    }
   ],
   "source": [
    "l=5\n",
    "d=0.1\n",
    "sol = all_sol[0]\n",
    "B1(sol[0], sol[1], l,d)"
   ]
  },
  {
   "cell_type": "code",
   "execution_count": 33,
   "metadata": {},
   "outputs": [
    {
     "data": {
      "text/plain": [
       "[(0.20064227880088642-0.011334142878345051j),\n",
       " (0.20064227880088642+0.011334142878345051j),\n",
       " (0.18076970607512177-0.04403721608649314j),\n",
       " (0.18076970607512177+0.04403721608649314j),\n",
       " (0.07350198332246927-0.1891745916759927j),\n",
       " (0.07620497807492242-0.1856302561506414j),\n",
       " (0.08372501454263193-0.16109949481037758j),\n",
       " (0.07862762390692232-0.18125796402329633j),\n",
       " (0.07350198332246927+0.1891745916759927j),\n",
       " (0.07620497807492242+0.1856302561506414j),\n",
       " (0.07862762390692232+0.18125796402329633j),\n",
       " (0.08372501454263193+0.16109949481037758j),\n",
       " (-0.1436144069543392-0.1692910856597122j),\n",
       " (-0.18720360326905144-0.09349400089097278j),\n",
       " (-0.15070953789436897-0.13310527906786943j),\n",
       " (-0.1546658506252592-0.12418217925259413j),\n",
       " (-0.1436144069543392+0.1692910856597122j),\n",
       " (-0.15070953789436897+0.13310527906786943j),\n",
       " (-0.18720360326905144+0.09349400089097278j),\n",
       " (-0.1546658506252592+0.12418217925259413j)]"
      ]
     },
     "execution_count": 33,
     "metadata": {},
     "output_type": "execute_result"
    }
   ],
   "source": [
    "l=5\n",
    "d=0.1\n",
    "[B1(sol[0], sol[1], l,d) for sol in all_sol]"
   ]
  },
  {
   "cell_type": "code",
   "execution_count": 34,
   "metadata": {},
   "outputs": [],
   "source": [
    "def B2 (z1, z2 ,l, d):\n",
    "    b= l* (z2**(l-1))\n",
    "    b = b+ (d* z1 *(z2-z1)/((1+z1*z2- d*z1) *(1+z1*z2- d*z1)))\n",
    "    b = b - (d/(1+z1*z2- d*z1))\n",
    "    b= 1/b\n",
    "    return b"
   ]
  },
  {
   "cell_type": "code",
   "execution_count": 35,
   "metadata": {},
   "outputs": [
    {
     "data": {
      "text/plain": [
       "[(0.07350198332246927-0.1891745916759927j),\n",
       " (0.07350198332246927+0.1891745916759927j),\n",
       " (-0.1436144069543392-0.1692910856597122j),\n",
       " (-0.1436144069543392+0.1692910856597122j),\n",
       " (0.20064227880088642-0.011334142878345051j),\n",
       " (0.07620497807492242+0.1856302561506414j),\n",
       " (-0.18720360326905144-0.09349400089097278j),\n",
       " (-0.15070953789436897+0.13310527906786943j),\n",
       " (0.20064227880088642+0.011334142878345051j),\n",
       " (0.07620497807492242-0.1856302561506414j),\n",
       " (-0.15070953789436897-0.13310527906786943j),\n",
       " (-0.18720360326905144+0.09349400089097278j),\n",
       " (0.18076970607512177-0.04403721608649314j),\n",
       " (0.08372501454263193-0.16109949481037758j),\n",
       " (0.07862762390692232+0.18125796402329633j),\n",
       " (-0.1546658506252592+0.12418217925259413j),\n",
       " (0.18076970607512177+0.04403721608649314j),\n",
       " (0.07862762390692232-0.18125796402329633j),\n",
       " (0.08372501454263193+0.16109949481037758j),\n",
       " (-0.1546658506252592-0.12418217925259413j)]"
      ]
     },
     "execution_count": 35,
     "metadata": {},
     "output_type": "execute_result"
    }
   ],
   "source": [
    "l=5\n",
    "d=0.1\n",
    "[B2(sol[0], sol[1], l,d) for sol in all_sol]"
   ]
  },
  {
   "attachments": {},
   "cell_type": "markdown",
   "metadata": {},
   "source": [
    "### Define a function for the terms inside the summation"
   ]
  },
  {
   "cell_type": "code",
   "execution_count": 36,
   "metadata": {},
   "outputs": [],
   "source": [
    "def term_ic(x1, x2, y1, y2, l, d, sol):\n",
    "    term = B1(sol[0], sol[1], l, d)* B2(sol[0], sol[1], l, d)/((sol[0]**(y1+1)) *(sol[1]**(y2+1)))\n",
    "    term = term*((sol[0]**x1)*(sol[1]**x2) + A(sol[0], sol[1], d)*(sol[0]**x2)*(sol[1]**x1) )\n",
    "    return term"
   ]
  },
  {
   "cell_type": "code",
   "execution_count": 37,
   "metadata": {},
   "outputs": [
    {
     "data": {
      "text/plain": [
       "(0.02655235003955873+0.03822152440204417j)"
      ]
     },
     "execution_count": 37,
     "metadata": {},
     "output_type": "execute_result"
    }
   ],
   "source": [
    "l=5\n",
    "d=0.1\n",
    "sol = all_sol[1]\n",
    "term_ic(1, 2, 1, 2, l, d, sol)"
   ]
  },
  {
   "cell_type": "code",
   "execution_count": 38,
   "metadata": {},
   "outputs": [
    {
     "data": {
      "text/plain": [
       "[(0.02655235003955873-0.03822152440204417j),\n",
       " (0.02655235003955873+0.03822152440204417j),\n",
       " (0.06985796757698914-0.029846201038300105j),\n",
       " (0.06985796757698914+0.029846201038300105j),\n",
       " (0.026552350039558748+0.03822152440204419j),\n",
       " (0.07145205462493578+0.025470587753747203j),\n",
       " (0.030804574967993183-0.03730521000298348j),\n",
       " (0.07345053800627666-0.021000583020212082j),\n",
       " (0.026552350039558748-0.03822152440204419j),\n",
       " (0.07145205462493578-0.025470587753747203j),\n",
       " (0.07345053800627666+0.021000583020212082j),\n",
       " (0.030804574967993183+0.03730521000298348j),\n",
       " (0.06985796757698914+0.029846201038300334j),\n",
       " (0.030804574967993336+0.03730521000298323j),\n",
       " (0.07345053800627668-0.021000583020212j),\n",
       " (0.028545216378475888-0.03783205805784352j),\n",
       " (0.06985796757698914-0.029846201038300334j),\n",
       " (0.07345053800627668+0.021000583020212j),\n",
       " (0.030804574967993336-0.03730521000298323j),\n",
       " (0.028545216378475888+0.03783205805784352j)]"
      ]
     },
     "execution_count": 38,
     "metadata": {},
     "output_type": "execute_result"
    }
   ],
   "source": [
    "l=5\n",
    "d=0.1\n",
    "[term_ic(1, 2, 1, 2, l, d, sol) for sol in all_sol]"
   ]
  },
  {
   "attachments": {},
   "cell_type": "markdown",
   "metadata": {},
   "source": [
    "### Define a function for the summation"
   ]
  },
  {
   "cell_type": "code",
   "execution_count": 39,
   "metadata": {},
   "outputs": [],
   "source": [
    "def F_ic(x1, x2, y1, y2, l, d, all_sol):\n",
    "    terms = [term_ic(x1, x2, y1, y2, l, d, sol) for sol in all_sol]\n",
    "    return sum(terms)"
   ]
  },
  {
   "cell_type": "code",
   "execution_count": 40,
   "metadata": {},
   "outputs": [
    {
     "data": {
      "text/plain": [
       "(-0.00017972613715512564+0j)"
      ]
     },
     "execution_count": 40,
     "metadata": {},
     "output_type": "execute_result"
    }
   ],
   "source": [
    "l=5\n",
    "d=0.1\n",
    "x1=1\n",
    "x2=3\n",
    "y1=1\n",
    "y2=2\n",
    "F_ic(x1, x2, y1, y2, l,d, all_sol)"
   ]
  },
  {
   "attachments": {},
   "cell_type": "markdown",
   "metadata": {},
   "source": [
    "### We check the identity"
   ]
  },
  {
   "cell_type": "code",
   "execution_count": 42,
   "metadata": {},
   "outputs": [
    {
     "name": "stdout",
     "output_type": "stream",
     "text": [
      "[(1, 2), (1, 3), (1, 4), (1, 5), (2, 3), (2, 4), (2, 5), (3, 4), (3, 5), (4, 5)]\n",
      "1\n",
      "2\n"
     ]
    }
   ],
   "source": [
    "X= [(i+1, j+1) for i in range(l) for j in range(l) if i<j]\n",
    "print(X)\n",
    "print(X[0][0])\n",
    "print(X[0][1])"
   ]
  },
  {
   "cell_type": "code",
   "execution_count": 47,
   "metadata": {},
   "outputs": [
    {
     "name": "stdout",
     "output_type": "stream",
     "text": [
      "[((-0.9999004932239475-0.014106865367931598j), (-0.29556981885742073+0.9553211408634222j)), ((-0.9999004932239475+0.014106865367931598j), (-0.29556981885742073-0.9553211408634222j)), ((-0.9982161702461371-0.05970324496318047j), (0.8426665326923638+0.5384358036760087j)), ((-0.9982161702461371+0.05970324496318047j), (0.8426665326923638-0.5384358036760087j)), ((-0.29556981885742073+0.9553211408634222j), (-0.9999004932239475-0.014106865367931598j)), ((-0.2910397456371135+0.956710962861556j), (-0.2910397456371135-0.956710962861556j)), ((-0.2695024611955077+0.9629997006279722j), (0.7840690931242293+0.6206735512387719j)), ((-0.28631282465912894+0.9581361940954486j), (0.8227661423655492-0.5683800444921631j)), ((-0.29556981885742073-0.9553211408634222j), (-0.9999004932239475+0.014106865367931598j)), ((-0.2910397456371135-0.956710962861556j), (-0.2910397456371135+0.956710962861556j)), ((-0.28631282465912894-0.9581361940954486j), (0.8227661423655492+0.5683800444921631j)), ((-0.2695024611955077-0.9629997006279722j), (0.7840690931242293-0.6206735512387719j)), ((0.8426665326923638+0.5384358036760087j), (-0.9982161702461371-0.05970324496318047j)), ((0.7840690931242293+0.6206735512387719j), (-0.2695024611955077+0.9629997006279722j)), ((0.8227661423655492+0.5683800444921631j), (-0.28631282465912894-0.9581361940954486j)), ((0.8160397456371133+0.5779957902446311j), (0.8160397456371133-0.5779957902446311j)), ((0.8426665326923638-0.5384358036760087j), (-0.9982161702461371+0.05970324496318047j)), ((0.8227661423655492-0.5683800444921631j), (-0.28631282465912894+0.9581361940954486j)), ((0.7840690931242293-0.6206735512387719j), (-0.2695024611955077-0.9629997006279722j)), ((0.8160397456371133-0.5779957902446311j), (0.8160397456371133+0.5779957902446311j))]\n"
     ]
    }
   ],
   "source": [
    "l=5\n",
    "d=0.1\n",
    "trails=30000\n",
    "all_sol = [sol_sys(l, d, k1, k2, trails) for k1 in range(l) for k2 in range(l) if k1 != k2]\n",
    "print(all_sol)"
   ]
  },
  {
   "attachments": {},
   "cell_type": "markdown",
   "metadata": {},
   "source": [
    "0 trails"
   ]
  },
  {
   "cell_type": "code",
   "execution_count": null,
   "metadata": {},
   "outputs": [
    {
     "name": "stdout",
     "output_type": "stream",
     "text": [
      "[(1.002952724905209+0j), (-0.004648477007776854+1.3877787807814457e-17j), (-0.03757409824241644-6.938893903907228e-18j), (0.015750430895559803-6.938893903907228e-18j), (-0.013303336696946166-2.0816681711721685e-17j), (0.002442050728842321+1.3877787807814457e-17j), (0.038693918672831035-2.7755575615628914e-17j), (0.017207951925788566+6.938893903907228e-18j), (-0.0018104590827346945-6.938893903907228e-18j), (-0.015422528218888551+0j)]\n",
      "(1.0042881778794681-3.469446951953614e-17j)\n"
     ]
    }
   ],
   "source": [
    "y1=1\n",
    "y2=2\n",
    "X= [(i+1, j+1) for i in range(l) for j in range(l) if i<j]\n",
    "values= [F_ic(x[0], x[1], y1, y2, l,d, all_sol) for x in X]\n",
    "print(values)\n",
    "print(sum(values))"
   ]
  },
  {
   "attachments": {},
   "cell_type": "markdown",
   "metadata": {},
   "source": [
    "1 trail"
   ]
  },
  {
   "cell_type": "code",
   "execution_count": null,
   "metadata": {},
   "outputs": [
    {
     "name": "stdout",
     "output_type": "stream",
     "text": [
      "[(1.001367969663171+2.0816681711721685e-17j), (-3.8934112978582236e-05-6.938893903907228e-18j), (0.00011854908137427789-6.938893903907228e-18j), (-0.0032015988000751033+0j), (-0.0013994139247976226-6.938893903907228e-18j), (0.0012791614606793567+2.7755575615628914e-17j), (-0.00046403459682210074+6.938893903907228e-18j), (0.0006565304444647209+6.938893903907228e-18j), (-0.002402721203353664+0j), (0.0003349383746709643+6.938893903907228e-18j)]\n",
      "(0.9962504463863333+4.85722573273506e-17j)\n"
     ]
    }
   ],
   "source": [
    "y1=1\n",
    "y2=2\n",
    "X= [(i+1, j+1) for i in range(l) for j in range(l) if i<j]\n",
    "values= [F_ic(x[0], x[1], y1, y2, l,d, all_sol) for x in X]\n",
    "print(values)\n",
    "print(sum(values))"
   ]
  },
  {
   "attachments": {},
   "cell_type": "markdown",
   "metadata": {},
   "source": [
    "10 trails"
   ]
  },
  {
   "cell_type": "code",
   "execution_count": null,
   "metadata": {},
   "outputs": [
    {
     "name": "stdout",
     "output_type": "stream",
     "text": [
      "[(1.0026562643700991+0j), (-0.00017972613715638852+6.938893903907228e-18j), (0.0004953443465689836+0j), (-0.002145920885743228+0j), (-0.0021459208857532164+1.3877787807814457e-17j), (0.0004953443465687962-2.7755575615628914e-17j), (-0.00017972613715409869+0j), (0.0008041437177645702-6.938893903907228e-18j), (-0.0006570057333846607+6.938893903907228e-18j), (0.0008041437177611563+0j)]\n",
      "(0.999946940719571-6.938893903907228e-18j)\n"
     ]
    }
   ],
   "source": [
    "y1=1\n",
    "y2=2\n",
    "X= [(i+1, j+1) for i in range(l) for j in range(l) if i<j]\n",
    "values= [F_ic(x[0], x[1], y1, y2, l,d, all_sol) for x in X]\n",
    "print(values)\n",
    "print(sum(values))"
   ]
  },
  {
   "attachments": {},
   "cell_type": "markdown",
   "metadata": {},
   "source": [
    "100 trails"
   ]
  },
  {
   "cell_type": "code",
   "execution_count": null,
   "metadata": {},
   "outputs": [
    {
     "name": "stdout",
     "output_type": "stream",
     "text": [
      "[(1.0026562643700956+1.3877787807814457e-17j), (-0.00017972613715649954-6.938893903907228e-18j), (0.0004953443465735771-6.938893903907228e-18j), (-0.002145920885749837-6.938893903907228e-18j), (-0.0021459208857497955+0j), (0.0004953443465723767+0j), (-0.00017972613715599994-1.3877787807814457e-17j), (0.0008041437177613298+0j), (-0.0006570057333915719+6.938893903907228e-18j), (0.0008041437177618918-6.938893903907228e-18j)]\n",
      "(0.999946940719561-2.0816681711721685e-17j)\n"
     ]
    }
   ],
   "source": [
    "y1=1\n",
    "y2=2\n",
    "X= [(i+1, j+1) for i in range(l) for j in range(l) if i<j]\n",
    "values= [F_ic(x[0], x[1], y1, y2, l,d, all_sol) for x in X]\n",
    "print(values)\n",
    "print(sum(values))"
   ]
  },
  {
   "attachments": {},
   "cell_type": "markdown",
   "metadata": {},
   "source": [
    "1000 trails"
   ]
  },
  {
   "cell_type": "code",
   "execution_count": 45,
   "metadata": {},
   "outputs": [
    {
     "name": "stdout",
     "output_type": "stream",
     "text": [
      "[(1.0026562643700954+0j), (-0.00017972613715566688+0j), (0.0004953443465722726+6.938893903907228e-18j), (-0.002145920885750354+6.938893903907228e-18j), (-0.002145920885750878+4.163336342344337e-17j), (0.0004953443465724322+2.7755575615628914e-17j), (-0.0001797261371552228+0j), (0.0008041437177620236+0j), (-0.0006570057333917592+0j), (0.0008041437177619265-6.938893903907228e-18j)]\n",
      "(0.9999469407195601+7.632783294297951e-17j)\n"
     ]
    }
   ],
   "source": [
    "y1=1\n",
    "y2=2\n",
    "X= [(i+1, j+1) for i in range(l) for j in range(l) if i<j]\n",
    "values= [F_ic(x[0], x[1], y1, y2, l,d, all_sol) for x in X]\n",
    "print(values)\n",
    "print(sum(values))"
   ]
  },
  {
   "cell_type": "code",
   "execution_count": null,
   "metadata": {},
   "outputs": [
    {
     "data": {
      "image/png": "[encoded data removed]",
      "text/plain": [
       "<Figure size 1280x880 with 1 Axes>"
      ]
     },
     "metadata": {},
     "output_type": "display_data"
    }
   ],
   "source": [
    "# import library\n",
    "import matplotlib.pyplot as plt\n",
    "\n",
    "\n",
    "# extract real part\n",
    "Real = [ele.real for ele in values]\n",
    "# extract imaginary part\n",
    "Imaginary = [ele.imag for ele in values]\n",
    "\n",
    "# plot the complex numbers\n",
    "plt.scatter(Real, Imaginary)\n",
    "plt.ylabel('Imaginary')\n",
    "plt.xlabel('Real')\n",
    "plt.xlim([1-0.000001,1.000001])\n",
    "plt.ylim([-0.000001,0.000001])\n",
    "plt.show()"
   ]
  },
  {
   "cell_type": "code",
   "execution_count": null,
   "metadata": {},
   "outputs": [],
   "source": []
  }
 ],
 "metadata": {
  "kernelspec": {
   "display_name": "Python 3",
   "language": "python",
   "name": "python3"
  },
  "language_info": {
   "codemirror_mode": {
    "name": "ipython",
    "version": 3
   },
   "file_extension": ".py",
   "mimetype": "text/x-python",
   "name": "python",
   "nbconvert_exporter": "python",
   "pygments_lexer": "ipython3",
   "version": "3.10.4"
  },
  "orig_nbformat": 4
 },
 "nbformat": 4,
 "nbformat_minor": 2
}
